{
 "cells": [
  {
   "cell_type": "code",
   "execution_count": 19,
   "metadata": {},
   "outputs": [
    {
     "name": "stdout",
     "output_type": "stream",
     "text": [
      "403\n",
      "b'<!DOCTYPE html><html lang=\"en-US\"><head><title>Just a moment...</title><meta http-equiv=\"Content-Type\" content=\"text/html; charset=UTF-8\"><meta http-equiv=\"X-UA-Compatible\" content=\"IE=Edge\"><meta name=\"robots\" content=\"noindex,nofollow\"><meta name=\"viewport\" content=\"width=device-width,initial-scale=1\"><style>*{box-sizing:border-box;margin:0;padding:0}html{line-height:1.15;-webkit-text-size-adjust:100%;color:#313131;font-family:system-ui,-apple-system,BlinkMacSystemFont,Segoe UI,Roboto,Helvetica Neue,Arial,Noto Sans,sans-serif,Apple Color Emoji,Segoe UI Emoji,Segoe UI Symbol,Noto Color Emoji}body{display:flex;flex-direction:column;height:100vh;min-height:100vh}.main-content{margin:8rem auto;max-width:60rem;padding-left:1.5rem}@media (width <= 720px){.main-content{margin-top:4rem}}.h2{font-size:1.5rem;font-weight:500;line-height:2.25rem}@media (width <= 720px){.h2{font-size:1.25rem;line-height:1.5rem}}#challenge-error-text{background-image:url(data:image/svg+xml;base64,PHN2ZyB4bWxucz0iaHR0cDovL3d3dy53My5vcmcvMjAwMC9zdmciIHdpZHRoPSIzMiIgaGVpZ2h0PSIzMiIgZmlsbD0ibm9uZSI+PHBhdGggZmlsbD0iI0IyMEYwMyIgZD0iTTE2IDNhMTMgMTMgMCAxIDAgMTMgMTNBMTMuMDE1IDEzLjAxNSAwIDAgMCAxNiAzbTAgMjRhMTEgMTEgMCAxIDEgMTEtMTEgMTEuMDEgMTEuMDEgMCAwIDEtMTEgMTEiLz48cGF0aCBmaWxsPSIjQjIwRjAzIiBkPSJNMTcuMDM4IDE4LjYxNUgxNC44N0wxNC41NjMgOS41aDIuNzgzem0tMS4wODQgMS40MjdxLjY2IDAgMS4wNTcuMzg4LjQwNy4zODkuNDA3Ljk5NCAwIC41OTYtLjQwNy45ODQtLjM5Ny4zOS0xLjA1Ny4zODktLjY1IDAtMS4wNTYtLjM4OS0uMzk4LS4zODktLjM5OC0uOTg0IDAtLjU5Ny4zOTgtLjk4NS40MDYtLjM5NyAxLjA1Ni0uMzk3Ii8+PC9zdmc+);background-repeat:no-repeat;background-size:contain;padding-left:34px}@media (prefers-color-scheme:dark){body{background-color:#222;color:#d9d9d9}}</style><meta http-equiv=\"refresh\" content=\"390\"></head><body class=\"no-js\"><div class=\"main-wrapper\" role=\"main\"><div class=\"main-content\"><noscript><div class=\"h2\"><span id=\"challenge-error-text\">Enable JavaScript and cookies to continue</span></div></noscript></div></div><script>(function(){window._cf_chl_opt={cvId: \\'3\\',cZone: \"sso.garmin.com\",cType: \\'managed\\',cRay: \\'8e4d44dfae92865f\\',cH: \\'iLXrwc0DNJXtghYQ0pU3lvb4SbWf5JLIBVdQ5lcblb8-1731988572-1.2.1.1-lF2TlJEf8Af0ELFL0qYkNjXO.0iIf7LHzINu8010DhUnL1bfgDj4CBpEex4FXq6X\\',cUPMDTk: \"\\\\/portal\\\\/sso\\\\/en-US\\\\/sign-in?__cf_chl_tk=sxV3yuFMVTUcFD9n4PQRIbmMdKyvTkQsSKYMYPLRs.4-1731988572-1.0.1.1-ZyNJv45Mu.PeIOnv3sE9SuoDtRKnlX5edoMzpriDKIA\",cFPWv: \\'b\\',cITimeS: \\'1731988572\\',cTTimeMs: \\'1000\\',cMTimeMs: \\'390000\\',cTplC: 0,cTplV: 5,cTplB: \\'cf\\',cK: \"\",fa: \"\\\\/portal\\\\/sso\\\\/en-US\\\\/sign-in?__cf_chl_f_tk=sxV3yuFMVTUcFD9n4PQRIbmMdKyvTkQsSKYMYPLRs.4-1731988572-1.0.1.1-ZyNJv45Mu.PeIOnv3sE9SuoDtRKnlX5edoMzpriDKIA\",md: \"oQGOu43DOr5CkY87S_MR88uyobJeS.6rDMlHD6uqQn4-1731988572-1.2.1.1-xww2jDOdRGNKtYIiArdH7lBonzIy_ZTx1LtDy9L3hyfkapXU6YjJoCHXYFcM7zAaw64eOauJEKjnD.cfbvwSf2F4_ufzq83a1T87pw_qDLNT5iRgMypvCQgcYCarg98DtiJpGknd43psSg9BQ7mKdxTG0ph6DWhVskA1ewjSHKNcWeSMOqUAGzaynNN07Uq5bOPOUT.cDS.TV90tC52d2e_RG7hdG2fDC6uYseqALgHX2Ro7lw7Ad4gGJeZBZMcYXuxmQ8_DSttZ4I8v55pN8q4e8xbLBjPeuSWRF2QGtJY.JNRoMZarTI_6p6NI8o5Fxl6eL701RZqCWG12xOWdsrQ9iGyNNYwXruY_hQ8l00auVyj8ulWnk32UvWhmnwS1WLXq.c_G0FxtBfSykS2TiLNKNsvwKstFclg8jcMEQSp8jplIQ6bzeBLqIV4pimQFZ.tndarRPs4x7Q6LDUksyG6y49IRGhIsdvkDwLsoSNk3mtChp6iaD8QlBVKtYUXN7tjD38AgDs.KufVP8X3Wx7K8AmmWwbZtW7M6coNQcS484RA6cPqo7TMN7.P2lIsSK06.53ETdQGwSVDWfqap1dXihKHT5T5pNrOD0_8n58OaiYkvAx1XsLKYHyhOIlCbF4HKC.eCDOflbe9ykEh_La46Mm1Ee9bo.Edo88JpajtBhHEn2FWCveRZtZxA_8nRtYMfR4pzpKKJ4lmonulUCZSeEXqz.H55zhgJZ_RJyUCmf4TC_QchKwDKN7ujS2oa43.t.j3m.dkFwVADiUnD.oG2LrFXfnnvsInM.5UG_A4QFpATHiZGK16dutVruRdpIrpIGs9xXDVeM6ZlEnVTL_uY4WEAtX.V15iaD9k6XMqRbiB9WsxHYJCjfaBs25hu9ZFM_j7fUjWlzLXfiJx2P_2EWYjyMwL4t2dFvQevTxUOm6IZFOeiD06sw06Ro8bxpn01dMufi5EcdaH0cUs3PPSqmx3iM5Tzruu4RV5PIhWxswPb39oWcYYIIv_dWIhlfypKjVjRXDnYMPElhpP.xhWQU.vyq.tmnnd.w5atOzbZyhjTKPcjkpzuscIMkiliczIrYmjAgJKjw3UHxP5t3RqOHL4fgGz4FimcB8ckzvn_6iz64JebKwf3Wjo51HPIE6Z._mKCRJbOv8KXz.ndJ39ljitKrdX5DfUfKkG51F5rZdEh9j7uzf7BDpaduJEUwJmn2lU6MmNk7Be9xS1LSVjsi2BUK2_bjOKbSclA6wYjUJrcIccex9fBdEVNF35WhWeFi7fc6nD8gcFeXRxs5uiEh45WpdSE_pzVPjOec1Q4THg5j3QkP3mj.FqWbHwYZtftvwV_KF7QOWKqvLNx2upjwKK6wl3xPfUZFwVi17GaTtzmer2l8bWpV73WejvOdNZJMGwcanaG4kZZKmHXpuIqkVbXPmn7Jc5DLCsQu6MTzGtg0kr6yRGH4_4IlgCI6xhnUePECmikup8RsFFjfKSoO5zoXZUhoNeAFKMdojbdpuOD3CAqwR_PTyhWUB73VSMRhcUq4srUVRfuILjtI7lgr62Dr711f_MjLZsIZeZLayVnhSkzymUS2q6CMg_42XtOwgtK0b7hM_OiH5UeSOr5Laft1cmyU4tdnrFSeyLDBizcKVnfdT_EtuvwoT0VaqwpIgqlBPVdvptUd6QxEMIUpQolhMr9ekicX588X2wO1Mkmv3aemZ9zSkov0uOUUJ0deZRAAf4vOtUOzRZqa8phg6HB6hAHZNbMbsNcvdoirqycyxKu6eYhDY4FMAWdmST9KRWBQVZwK9Holv86fWLc5Ni.o7_PuOh_7lCMbccAw3x5JbcD1qoZacYZWcD7SgISMbRt6OkCl7EMI_RsryzuNAVV55jD33yY7PfhZkf3o7NCvYx0CN3dzLkPACipV.RFQ6iv.x5S004rIDGHZTydGSDQC2tH2YrW9CZXh1VJf.7TSoAdZ8mhlmovXXrWm5Z.NRv.Qro_17s_AjzsQWjZO4N4wjrHnHXpRRS_ElgBL.uYdr14HKjwYv.2EQs5wI6SeyHXVclvIE5CMiEsz8ciKJV0zGaty0raulnZSmz.hPBQohqULjQyO3cojpLY_oCDbo6Uy0tkvsLocph8VGnMe193da9hBS.XVz6ylnrTsSeE5CZTw2b3H1R_FBMWaV56YeI6bZJFkL1s7m7tRoOgJRy0ajv9rHkAbfbfHlHbXh3zm.lUUi3UAzcxzhhhX_GRAjp2xkRLrZ1sTWK7S28h0K5hUkozSWiK00druFI4vDyuXOLwWaR7IgtgiAzjA4.yIjqo_d8b00HDiEAcFg\",mdrd: \"LDbSWwZonF40bLDHzF_qQZX0KWBUURVBm87w07NmLZU-1731988572-1.2.1.1-bzRqOpv2rnUjm6Zw3ZGMj.2E4Tp400MferQAe4T6AwjNqf125FkjFd0wdrhfh_JjK5YZDyoONDxow4F.DIev1E6TMiZRGoTxXFxgzUdFJIuzaVgVyUK1.4_bPCBQ9KY4BX38AH7upeXF_ArwRHLlGT4qYwXF33zA25JQkLHQt1R.HjXh78ftWkq8vKI10hmsxovEVymLu.2IcMFET2qzaHD69ut7Ik3XtC3bwNXem7UfmQKrU0fFWaSmP7Y8ejkLJmYQn_4.DdnTL3ymp5doWCFCJDzFe8HS2uMec8gTEckTZJvwfC4dUN3mYEAA2_e4.THj9DqR.BCa1J_YqUdrc2BRrQV1MALt_GxnH468ZMYJx5a57OOKMmbQ0X9GOMtlUuBe8UyyBSe_8M_7rvOQPbEY6ilVag1eScUXDxxhfByn8oTUlJPGhCuCoqf53W5j.p0MHUxi1mf8k5BmZJwHffDS50wl2Snikp8xMC6dEewMKkEUpghIdB4txCWtV_IaC7aSH_tGIHf1XoJr7w6fyoAfMOIPfNy.2P4VuTmXRGPHQnZoCmrBrkmmMfDqtIj3Q5d0aagOW379JkaYoWL29oaV9c1UdTG7MOmH3TOzcm8xHpBQfL5E0c_hASeZf91m6CRsqwEq6eT0RbV0.l3V7PxoKRNkvVVGDJYqqjFAhPYKf2oVBN24rMYYqoPMsZQNkX7RwpW8W1bdjeGE_B4UKiMFWkl3s7nMGchVUwu1vLeLWfClIO2iPoJuHrHOCMV7Kwch46BCHy7RxQAImzjTsOULvnGUvg_RbnCsxXnqylIw6IDQwgeszx2MMNPdD9TsKlZEF2wiiwE0hPa_LNzXTlFW8cMIy20VMA9lD4ZnMzFMsqRaL.YE_6tYnRbqddpej_oP5nH1mbE8Vkk64TE1vDrnywIzoKqsvRB2GTQZqf4vuU4pzCejxZBqoMN11G6iMTsEl4hpAdA3m2cgqx3PuPFaJoJI4Ojr4Tybm4HL0G9jaNMRc_ayNAHvk56oD9jHU9RPJ8zM1CMFt2tUqdhlT1jzWMgzp6jwvA_bxvpSKMYIbKoFyPrGOUvDbQMT7dRJqCbDu6Zct5BHz89UbfcLyvA5dM5I8zc9oDD6ryhPfbimZqavtMNbKSS0nnv.Azr63x.FzuxZwH4HCFacVp14fYH3XQUlcOFrzxTzfwpIY3QBoRxQW0chMy4gSt..n71po2FLsHyoguTkSVdT2SwejvpjtJWUI75tvLPulK.bE2FYVqjodJOVQR8_e3gjKnLwF6XIAdJ0OPOmeVNmR30nbHAjZ3WK6AqmUZd1u_ESPXsZWHDkD4PPa3l7aPQp.xcwuXbnvqPYdds_S2aoOBP1582._82amWuQqJGS3qpqu8J6IEhBR.Bv1yibaGZ_a02rUXdhyf4Sf44F1NoeIcoCcFDAAByvmvP0EO2Tky6..XZbKbqCx5vk4NxIdAwEE7F4.UsUJKLDq7SCPnb0j07C3nfXjtzJ_bjP1awNYLp0Xb5xVeMdAYHw0Gok4_Cc7BnR4IHTCJA30Ld1AoCpdDrmzOa8.1AkOkFKayR8pQ95CHMCkRpxCcGCVOatKZYCAUMNVNmHBtp86ehzko7eHdtFOoDBrQxqkH0Xc0ii4lP1j.zGdlkFXnfrxbYrMPUn08q4vbXXaJpDKVMb5QTMtEbIY.oRoNdQ0Vk.DAuGVhf6Gbv.sI4hCTDcsC9ES.Gg1MijNtOyfPM6Twgc86ECjeYp7muC.SZXsXhdJtv5l2Q46xDaV2ha2jorWx3eoOJbSAHd..IT771oG5dSmo8D9gXPm5b0..OM1uP0Y1cuCJFWsSoeqjiMKWQjvd8yNWtQp58Tcg5P2qVZg82lT.4HXJDkY6bJKg1_65gnXVcyNx4O93N0CIY5CUv_zQ8TS.VDRfUPdlgtDU4Wcgr5BVyilxrIOode4cMUJ98y0Xg5ctYI4SVYY5LIETk23R.9Y_pVUA.kBkOZhNOLlQZfy7DNqtPsuSeiYOPPFObhonuBqZGPxf_Rj5Nw.jtVVxS5C5a4nBOKcuroKIJfNIhCEAOL1srJAxOP4aelWWqzPBbQfMSiwEjPC2vJu0th7QxFEYWPUAWP8.ShBqwypKYLIhIarRSopeP9t9EMYDaV3Vmm_cs3PPV7Nk8FCN.SkIyWHjLxTYu.\"};var cpo = document.createElement(\\'script\\');cpo.src = \\'/cdn-cgi/challenge-platform/h/b/orchestrate/chl_page/v1?ray=8e4d44dfae92865f\\';window._cf_chl_opt.cOgUHash = location.hash === \\'\\' && location.href.indexOf(\\'#\\') !== -1 ? \\'#\\' : location.hash;window._cf_chl_opt.cOgUQuery = location.search === \\'\\' && location.href.slice(0, location.href.length - window._cf_chl_opt.cOgUHash.length).indexOf(\\'?\\') !== -1 ? \\'?\\' : location.search;if (window.history && window.history.replaceState) {var ogU = location.pathname + window._cf_chl_opt.cOgUQuery + window._cf_chl_opt.cOgUHash;history.replaceState(null, null, \"\\\\/portal\\\\/sso\\\\/en-US\\\\/sign-in?__cf_chl_rt_tk=sxV3yuFMVTUcFD9n4PQRIbmMdKyvTkQsSKYMYPLRs.4-1731988572-1.0.1.1-ZyNJv45Mu.PeIOnv3sE9SuoDtRKnlX5edoMzpriDKIA\" + window._cf_chl_opt.cOgUHash);cpo.onload = function() {history.replaceState(null, null, ogU);}}document.getElementsByTagName(\\'head\\')[0].appendChild(cpo);}());</script></body></html>'\n"
     ]
    }
   ],
   "source": [
    "import requests\n",
    "import json\n",
    "import time\n",
    "\n",
    "with open(\"secret.json\") as f:\n",
    "    d = json.load(f)\n",
    "    USER, PASS = d[\"USER\"], d[\"PASS\"]\n",
    "\n",
    "signin_endpoint = \"https://sso.garmin.com/portal/sso/en-US/sign-in\"\n",
    "login_endpoint = \"https://sso.garmin.com/portal/api/login?clientId=GarminConnect&locale=en-US&service=https%3A%2F%2Fconnect.garmin.com%2Fmodern\"\n",
    "login_payload = {\n",
    "    \"username\": USER,\n",
    "    \"password\": PASS,\n",
    "    \"rememberMe\": False,\n",
    "    \"captchaToken\": \"\"\n",
    "}\n",
    "\n",
    "activities_endpoint = \"https://connect.garmin.com/activitylist-service/activities/search/activities\"\n",
    "\n",
    "\n",
    "with requests.Session() as s:\n",
    "\n",
    "    resp = s.get(signin_endpoint)\n",
    "\n",
    "\n",
    "\n",
    "    # s.post(login_endpoint, data=login_payload, headers=login_headers)\n",
    "\n",
    "\n",
    "    print(resp.status_code)\n",
    "    print(resp.content)"
   ]
  },
  {
   "cell_type": "code",
   "execution_count": null,
   "metadata": {},
   "outputs": [],
   "source": []
  }
 ],
 "metadata": {
  "kernelspec": {
   "display_name": "Python 3",
   "language": "python",
   "name": "python3"
  },
  "language_info": {
   "codemirror_mode": {
    "name": "ipython",
    "version": 3
   },
   "file_extension": ".py",
   "mimetype": "text/x-python",
   "name": "python",
   "nbconvert_exporter": "python",
   "pygments_lexer": "ipython3",
   "version": "3.10.11"
  }
 },
 "nbformat": 4,
 "nbformat_minor": 2
}
